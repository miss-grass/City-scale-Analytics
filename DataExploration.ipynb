{
 "cells": [
  {
   "cell_type": "code",
   "execution_count": 4,
   "metadata": {
    "scrolled": false
   },
   "outputs": [
    {
     "name": "stdout",
     "output_type": "stream",
     "text": [
      "42161\n"
     ]
    }
   ],
   "source": [
    "import json\n",
    "import pandas as pd\n",
    "\n",
    "with open('sidewalks.geojson') as f:\n",
    "    data = json.load(f)\n",
    "\n",
    "df = pd.DataFrame(columns=['ID',\n",
    "                           'forward',\n",
    "                               'incline',\n",
    "                               'layer',\n",
    "                               'side',\n",
    "                               'street_name',\n",
    "                               'surface',\n",
    "                               'width',\n",
    "                               'length',\n",
    "                               'v_coordinates',\n",
    "                          'u_coordinates'])\n",
    "\n",
    "id = 0;\n",
    "count = 0;\n",
    "for feature in data['features']:\n",
    "    count+=1;\n",
    "    id+=1\n",
    "    print(id)\n",
    "    properties = feature[\"properties\"]\n",
    "    if (feature['geometry']['coordinates']):\n",
    "        df.loc[df.shape[0]] = [id,\n",
    "                          properties['forward'] if 'forward' in properties else \"N/A\",\n",
    "                          properties['incline'] if  'incline' in properties else \"N/A\",\n",
    "                          properties['layer'] if 'layer' in properties else \"N/A\",\n",
    "                          properties['side'] if 'side' in properties else \"N/A\",\n",
    "                          properties['street_name'] if 'street_name' in properties else \"N/A\",\n",
    "                          properties['surface'] if 'surface' in properties else \"N/A\",\n",
    "                          properties['width'] if 'width' in properties else \"N/A\",\n",
    "                          properties['length'] if 'length' in properties else \"N/A\",\n",
    "                          \"(\" + str(feature['geometry']['coordinates'][0][0]) + \",\" + str(feature['geometry']['coordinates'][0][1]) + \")\",\n",
    "                          \"(\" + str(feature['geometry']['coordinates'][1][0]) + \",\" + str(feature['geometry']['coordinates'][1][1]) + \")\"]\n",
    "    \n",
    "print(\"Total sidewalk number: \" + id)    \n",
    "filename = \"sidewalks.csv\"\n",
    "df.to_csv(filename,  encoding='utf-8')\n"
   ]
  },
  {
   "cell_type": "code",
   "execution_count": 3,
   "metadata": {},
   "outputs": [],
   "source": [
    "import json\n",
    "import pandas as pd\n",
    "with open('crossings.geojson') as f:\n",
    "    data = json.load(f)\n",
    "\n",
    "df = pd.DataFrame(columns=['ID',\n",
    "                           'curbramps',\n",
    "                               'marked',\n",
    "                          'street_name',\n",
    "                          'v_coordinates',\n",
    "                          'u_coordinates'])\n",
    "\n",
    "id = 0;\n",
    "for feature in data['features']:\n",
    "    id+=1\n",
    "    properties = feature[\"properties\"]\n",
    "    if (feature['geometry']['coordinates']):\n",
    "        df.loc[df.shape[0]] = [id,\n",
    "                          properties['curbramps'] if 'curbramps' in properties else \"N/A\",\n",
    "                          properties['marked'] if  'marked' in properties else \"N/A\",\n",
    "                          properties['street_name'] if 'street_name' in properties else \"N/A\",\n",
    "                          \"(\" + str(feature['geometry']['coordinates'][0][0]) + \",\" + str(feature['geometry']['coordinates'][0][1]) + \")\",\n",
    "                          \"(\" + str(feature['geometry']['coordinates'][1][0]) + \",\" + str(feature['geometry']['coordinates'][1][1]) + \")\"]\n",
    "    else:\n",
    "        print(id)\n",
    "\n",
    "print(\"Total crossing number: \" + id)   \n",
    "filename = \"crossings.csv\"\n",
    "df.to_csv(filename,  encoding='utf-8')\n"
   ]
  },
  {
   "cell_type": "code",
   "execution_count": null,
   "metadata": {},
   "outputs": [],
   "source": []
  }
 ],
 "metadata": {
  "kernelspec": {
   "display_name": "Python 3",
   "language": "python",
   "name": "python3"
  },
  "language_info": {
   "codemirror_mode": {
    "name": "ipython",
    "version": 3
   },
   "file_extension": ".py",
   "mimetype": "text/x-python",
   "name": "python",
   "nbconvert_exporter": "python",
   "pygments_lexer": "ipython3",
   "version": "3.6.3"
  }
 },
 "nbformat": 4,
 "nbformat_minor": 2
}
